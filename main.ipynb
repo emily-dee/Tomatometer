{
 "cells": [
  {
   "cell_type": "code",
   "execution_count": 1,
   "id": "20f43641-992d-4acc-b391-bdd36add690f",
   "metadata": {},
   "outputs": [],
   "source": [
    "from pyspark.sql import SparkSession\n",
    "import pyspark.sql.functions as F"
   ]
  },
  {
   "cell_type": "code",
   "execution_count": 2,
   "id": "24ab2a5e-14bd-4c9a-9b58-93c144feb276",
   "metadata": {},
   "outputs": [],
   "source": [
    "spark = SparkSession.builder.appName('MySparkApp').getOrCreate()"
   ]
  },
  {
   "cell_type": "markdown",
   "id": "dc84816f-21b9-4e26-9696-0e9d8ae5af08",
   "metadata": {},
   "source": [
    "## PySpark Steps"
   ]
  },
  {
   "cell_type": "code",
   "execution_count": 3,
   "id": "8bf308f4-1222-4502-9df8-1f258687ecd0",
   "metadata": {},
   "outputs": [],
   "source": [
    "df = spark.read.csv('rotten_tomatoes_movies.csv', header=True, inferSchema=True)"
   ]
  },
  {
   "cell_type": "code",
   "execution_count": 4,
   "id": "017921d4-6ac4-41ba-8af4-e05f01c7e73b",
   "metadata": {},
   "outputs": [
    {
     "name": "stdout",
     "output_type": "stream",
     "text": [
      "+--------------------+--------------------+-------------+-----------+------+--------------------+-------------------+--------------------+--------------+--------------------+----------------+--------------------+--------------------+---------+-----------+--------+\n",
      "|                  id|               title|audienceScore|tomatoMeter|rating|      ratingContents|releaseDateTheaters|releaseDateStreaming|runtimeMinutes|               genre|originalLanguage|            director|              writer|boxOffice|distributor|soundMix|\n",
      "+--------------------+--------------------+-------------+-----------+------+--------------------+-------------------+--------------------+--------------+--------------------+----------------+--------------------+--------------------+---------+-----------+--------+\n",
      "|  space-zombie-bingo| Space Zombie Bingo!|           50|       NULL|  NULL|                NULL|               NULL|          2018-08-25|            75|Comedy, Horror, S...|         English|       George Ormrod|George Ormrod,Joh...|     NULL|       NULL|    NULL|\n",
      "|     the_green_grass|     The Green Grass|         NULL|       NULL|  NULL|                NULL|               NULL|          2020-02-11|           114|               Drama|         English|     Tiffany Edwards|     Tiffany Edwards|     NULL|       NULL|    NULL|\n",
      "|           love_lies|          Love, Lies|           43|       NULL|  NULL|                NULL|               NULL|                NULL|           120|               Drama|          Korean|Park Heung-Sik,He...|Ha Young-Joon,Jeo...|     NULL|       NULL|    NULL|\n",
      "|the_sore_losers_1997|         Sore Losers|           60|       NULL|  NULL|                NULL|               NULL|          2020-10-23|            90|Action, Mystery &...|         English|John Michael McCa...|John Michael McCa...|     NULL|       NULL|    NULL|\n",
      "|dinosaur_island_2002|     Dinosaur Island|           70|       NULL|  NULL|                NULL|               NULL|          2017-03-27|            80|Fantasy, Adventur...|         English|       Will Meugniot|            John Loy|     NULL|       NULL|    NULL|\n",
      "|         adrift_2018|              Adrift|           65|         69| PG-13|['Injury Images',...|         2018-06-01|          2018-08-21|           120|Adventure, Drama,...|         English|   Baltasar Kormákur|Aaron Kandell,Jor...|   $31.4M|  STX Films|    NULL|\n",
      "|malta-con-huevo-s...|      Scrambled Beer|           55|       NULL|  NULL|                NULL|               NULL|          2015-10-05|            88|              Comedy|         Spanish|Cristobal Valderrama|Cristobal Valderrama|     NULL|       NULL|    NULL|\n",
      "|    kakabakaba-ka-ba|Kakabakaba ka ba?...|           88|       NULL|  NULL|                NULL|               NULL|                NULL|          NULL|                NULL|            NULL|        Mike de Leon|                NULL|     NULL|       NULL|    NULL|\n",
      "|          sundowning|          Sundowning|         NULL|       NULL|  NULL|                NULL|               NULL|                NULL|           123|               Drama|         English|      Jim Comas Cole|                NULL|     NULL|       NULL|    NULL|\n",
      "|1035316-born_to_kill|        Born to Kill|           74|         83|  NULL|                NULL|         1947-04-30|          2016-05-23|            92|        Crime, Drama|         English|         Robert Wise|Eve Greene,Richar...|     NULL|       NULL|    NULL|\n",
      "+--------------------+--------------------+-------------+-----------+------+--------------------+-------------------+--------------------+--------------+--------------------+----------------+--------------------+--------------------+---------+-----------+--------+\n",
      "only showing top 10 rows\n",
      "\n"
     ]
    }
   ],
   "source": [
    "df.show(10)"
   ]
  },
  {
   "cell_type": "code",
   "execution_count": 5,
   "id": "1046bea1-dc1c-489f-865b-a2f44cebc7fc",
   "metadata": {},
   "outputs": [
    {
     "name": "stdout",
     "output_type": "stream",
     "text": [
      "root\n",
      " |-- id: string (nullable = true)\n",
      " |-- title: string (nullable = true)\n",
      " |-- audienceScore: integer (nullable = true)\n",
      " |-- tomatoMeter: integer (nullable = true)\n",
      " |-- rating: string (nullable = true)\n",
      " |-- ratingContents: string (nullable = true)\n",
      " |-- releaseDateTheaters: date (nullable = true)\n",
      " |-- releaseDateStreaming: string (nullable = true)\n",
      " |-- runtimeMinutes: integer (nullable = true)\n",
      " |-- genre: string (nullable = true)\n",
      " |-- originalLanguage: string (nullable = true)\n",
      " |-- director: string (nullable = true)\n",
      " |-- writer: string (nullable = true)\n",
      " |-- boxOffice: string (nullable = true)\n",
      " |-- distributor: string (nullable = true)\n",
      " |-- soundMix: string (nullable = true)\n",
      "\n"
     ]
    }
   ],
   "source": [
    "df.printSchema()"
   ]
  },
  {
   "cell_type": "markdown",
   "id": "76c1b0b0-72c2-4ef3-92d9-fb06c094fb11",
   "metadata": {},
   "source": [
    "### Cleaning"
   ]
  },
  {
   "cell_type": "markdown",
   "id": "3420bf80-3d07-47be-92cc-a59aee21cfbd",
   "metadata": {},
   "source": [
    "Removing rows with null values in AudienceScore, tomatoMeter, or releaseDateTheaters"
   ]
  },
  {
   "cell_type": "code",
   "execution_count": 6,
   "id": "cfeaa6f5-910e-4ff1-bba8-5caa85f24dad",
   "metadata": {},
   "outputs": [
    {
     "name": "stdout",
     "output_type": "stream",
     "text": [
      "+-------------+-----------+-------------------+\n",
      "|audienceScore|tomatoMeter|releaseDateTheaters|\n",
      "+-------------+-----------+-------------------+\n",
      "|        70010|     109381|             112485|\n",
      "+-------------+-----------+-------------------+\n",
      "\n"
     ]
    }
   ],
   "source": [
    "df.select([F.count(F.when(F.col(c).isNull(), c)).alias(c) for c in ['audienceScore', 'tomatoMeter', 'releaseDateTheaters']]).show()"
   ]
  },
  {
   "cell_type": "code",
   "execution_count": 7,
   "id": "00448705-5f60-4b61-bfd6-c8e9cea686dc",
   "metadata": {},
   "outputs": [],
   "source": [
    "df = df.na.drop(subset=['audienceScore', 'tomatoMeter', 'releaseDateTheaters'])"
   ]
  },
  {
   "cell_type": "code",
   "execution_count": 8,
   "id": "beb29229-fb2b-4d09-a6ca-afa4bc906ec0",
   "metadata": {},
   "outputs": [
    {
     "name": "stdout",
     "output_type": "stream",
     "text": [
      "+-------------+-----------+-------------------+\n",
      "|audienceScore|tomatoMeter|releaseDateTheaters|\n",
      "+-------------+-----------+-------------------+\n",
      "|            0|          0|                  0|\n",
      "+-------------+-----------+-------------------+\n",
      "\n"
     ]
    }
   ],
   "source": [
    "df.select([F.count(F.when(F.col(c).isNull(), c)).alias(c) for c in ['audienceScore', 'tomatoMeter', 'releaseDateTheaters']]).show()"
   ]
  },
  {
   "cell_type": "markdown",
   "id": "88fd32d6-d350-4eff-8c52-1c7b14b6b770",
   "metadata": {},
   "source": [
    "### Processing\n",
    "Creating a new column named \"year\" using the release date column"
   ]
  },
  {
   "cell_type": "code",
   "execution_count": 9,
   "id": "4b140304-df59-4b6a-84e0-398792fb42cc",
   "metadata": {},
   "outputs": [],
   "source": [
    "df = df.withColumn('year', F.year(df.releaseDateTheaters))"
   ]
  },
  {
   "cell_type": "code",
   "execution_count": 10,
   "id": "780442d0-982a-4967-b323-c8d9ba3688e9",
   "metadata": {},
   "outputs": [
    {
     "name": "stdout",
     "output_type": "stream",
     "text": [
      "+----+\n",
      "|year|\n",
      "+----+\n",
      "|2018|\n",
      "|1947|\n",
      "|2009|\n",
      "|2011|\n",
      "|2005|\n",
      "|2017|\n",
      "|1963|\n",
      "|1996|\n",
      "|2009|\n",
      "|1991|\n",
      "|2002|\n",
      "|2017|\n",
      "|2022|\n",
      "|2015|\n",
      "|1993|\n",
      "|2012|\n",
      "|2019|\n",
      "|2017|\n",
      "|2014|\n",
      "|2004|\n",
      "+----+\n",
      "only showing top 20 rows\n",
      "\n"
     ]
    }
   ],
   "source": [
    "df.select('year').show()"
   ]
  },
  {
   "cell_type": "code",
   "execution_count": 11,
   "id": "5ab71d77-e193-4d80-ba26-ebbb2f27663b",
   "metadata": {},
   "outputs": [],
   "source": [
    "df = df.orderBy(F.desc('tomatoMeter')).limit(5000)"
   ]
  },
  {
   "cell_type": "markdown",
   "id": "cee8d4a4-f3b8-41c2-9147-42e5730e4d79",
   "metadata": {},
   "source": [
    "### Save as Parquet"
   ]
  },
  {
   "cell_type": "code",
   "execution_count": 12,
   "id": "1c999a5f-dd45-4be3-977c-655366149575",
   "metadata": {},
   "outputs": [],
   "source": [
    "import pandas as pd\n",
    "import seaborn as sns\n",
    "import matplotlib.pyplot as plt"
   ]
  },
  {
   "cell_type": "code",
   "execution_count": 13,
   "id": "2319f494-c6b1-4800-965f-3a17d3650eca",
   "metadata": {},
   "outputs": [],
   "source": [
    "df.write.parquet('processed.parquet', mode='overwrite')"
   ]
  },
  {
   "cell_type": "code",
   "execution_count": 14,
   "id": "0940a1ba-c19c-46bb-8d43-ec69c4406039",
   "metadata": {},
   "outputs": [],
   "source": [
    "df = pd.read_parquet('processed.parquet')"
   ]
  },
  {
   "cell_type": "markdown",
   "id": "de8ed06d-a693-4432-ac24-a03d28a24a59",
   "metadata": {},
   "source": [
    "## EDA Exploration"
   ]
  },
  {
   "cell_type": "code",
   "execution_count": 15,
   "id": "c11480b1-5679-4338-8c77-d00bb722b930",
   "metadata": {},
   "outputs": [
    {
     "data": {
      "text/html": [
       "<div>\n",
       "<style scoped>\n",
       "    .dataframe tbody tr th:only-of-type {\n",
       "        vertical-align: middle;\n",
       "    }\n",
       "\n",
       "    .dataframe tbody tr th {\n",
       "        vertical-align: top;\n",
       "    }\n",
       "\n",
       "    .dataframe thead th {\n",
       "        text-align: right;\n",
       "    }\n",
       "</style>\n",
       "<table border=\"1\" class=\"dataframe\">\n",
       "  <thead>\n",
       "    <tr style=\"text-align: right;\">\n",
       "      <th></th>\n",
       "      <th>id</th>\n",
       "      <th>title</th>\n",
       "      <th>audienceScore</th>\n",
       "      <th>tomatoMeter</th>\n",
       "      <th>rating</th>\n",
       "      <th>ratingContents</th>\n",
       "      <th>releaseDateTheaters</th>\n",
       "      <th>releaseDateStreaming</th>\n",
       "      <th>runtimeMinutes</th>\n",
       "      <th>genre</th>\n",
       "      <th>originalLanguage</th>\n",
       "      <th>director</th>\n",
       "      <th>writer</th>\n",
       "      <th>boxOffice</th>\n",
       "      <th>distributor</th>\n",
       "      <th>soundMix</th>\n",
       "      <th>year</th>\n",
       "    </tr>\n",
       "  </thead>\n",
       "  <tbody>\n",
       "    <tr>\n",
       "      <th>0</th>\n",
       "      <td>sometimes_a_great_notion</td>\n",
       "      <td>Sometimes a Great Notion</td>\n",
       "      <td>77</td>\n",
       "      <td>100</td>\n",
       "      <td>None</td>\n",
       "      <td>None</td>\n",
       "      <td>1972-01-19</td>\n",
       "      <td>2011-01-31</td>\n",
       "      <td>114.0</td>\n",
       "      <td>Drama</td>\n",
       "      <td>English</td>\n",
       "      <td>Paul Newman</td>\n",
       "      <td>John Gay</td>\n",
       "      <td>None</td>\n",
       "      <td>Universal Pictures</td>\n",
       "      <td>Stereo</td>\n",
       "      <td>1972</td>\n",
       "    </tr>\n",
       "    <tr>\n",
       "      <th>1</th>\n",
       "      <td>berkeley_in_the_sixties</td>\n",
       "      <td>Berkeley in the Sixties</td>\n",
       "      <td>76</td>\n",
       "      <td>100</td>\n",
       "      <td>None</td>\n",
       "      <td>None</td>\n",
       "      <td>1990-01-01</td>\n",
       "      <td>2002-12-10</td>\n",
       "      <td>117.0</td>\n",
       "      <td>Documentary</td>\n",
       "      <td>English</td>\n",
       "      <td>Mark Kitchell</td>\n",
       "      <td>Mark Kitchell</td>\n",
       "      <td>None</td>\n",
       "      <td>First Run, California Newsreel</td>\n",
       "      <td>None</td>\n",
       "      <td>1990</td>\n",
       "    </tr>\n",
       "    <tr>\n",
       "      <th>2</th>\n",
       "      <td>more_than_honey</td>\n",
       "      <td>More Than Honey</td>\n",
       "      <td>79</td>\n",
       "      <td>100</td>\n",
       "      <td>None</td>\n",
       "      <td>None</td>\n",
       "      <td>2013-06-12</td>\n",
       "      <td>2014-03-18</td>\n",
       "      <td>95.0</td>\n",
       "      <td>Documentary</td>\n",
       "      <td>German</td>\n",
       "      <td>Markus Imhoof</td>\n",
       "      <td>None</td>\n",
       "      <td>$71.5K</td>\n",
       "      <td>Kino Lorber</td>\n",
       "      <td>None</td>\n",
       "      <td>2013</td>\n",
       "    </tr>\n",
       "    <tr>\n",
       "      <th>3</th>\n",
       "      <td>tiger_24</td>\n",
       "      <td>Tiger 24</td>\n",
       "      <td>95</td>\n",
       "      <td>100</td>\n",
       "      <td>None</td>\n",
       "      <td>None</td>\n",
       "      <td>2022-06-10</td>\n",
       "      <td>2022-12-06</td>\n",
       "      <td>90.0</td>\n",
       "      <td>Documentary</td>\n",
       "      <td>English</td>\n",
       "      <td>Warren Pereira</td>\n",
       "      <td>Warren Pereira</td>\n",
       "      <td>None</td>\n",
       "      <td>Elevation Pictures</td>\n",
       "      <td>None</td>\n",
       "      <td>2022</td>\n",
       "    </tr>\n",
       "    <tr>\n",
       "      <th>4</th>\n",
       "      <td>atlantic_city</td>\n",
       "      <td>Atlantic City</td>\n",
       "      <td>77</td>\n",
       "      <td>100</td>\n",
       "      <td>None</td>\n",
       "      <td>None</td>\n",
       "      <td>1981-04-03</td>\n",
       "      <td>2013-01-01</td>\n",
       "      <td>104.0</td>\n",
       "      <td>Comedy, Drama</td>\n",
       "      <td>English</td>\n",
       "      <td>Louis Malle</td>\n",
       "      <td>John Guare</td>\n",
       "      <td>None</td>\n",
       "      <td>Paramount Pictures</td>\n",
       "      <td>None</td>\n",
       "      <td>1981</td>\n",
       "    </tr>\n",
       "  </tbody>\n",
       "</table>\n",
       "</div>"
      ],
      "text/plain": [
       "                         id                     title  audienceScore  \\\n",
       "0  sometimes_a_great_notion  Sometimes a Great Notion             77   \n",
       "1   berkeley_in_the_sixties   Berkeley in the Sixties             76   \n",
       "2           more_than_honey           More Than Honey             79   \n",
       "3                  tiger_24                  Tiger 24             95   \n",
       "4             atlantic_city             Atlantic City             77   \n",
       "\n",
       "   tomatoMeter rating ratingContents releaseDateTheaters releaseDateStreaming  \\\n",
       "0          100   None           None          1972-01-19           2011-01-31   \n",
       "1          100   None           None          1990-01-01           2002-12-10   \n",
       "2          100   None           None          2013-06-12           2014-03-18   \n",
       "3          100   None           None          2022-06-10           2022-12-06   \n",
       "4          100   None           None          1981-04-03           2013-01-01   \n",
       "\n",
       "   runtimeMinutes          genre originalLanguage        director  \\\n",
       "0           114.0          Drama          English     Paul Newman   \n",
       "1           117.0    Documentary          English   Mark Kitchell   \n",
       "2            95.0    Documentary           German   Markus Imhoof   \n",
       "3            90.0    Documentary          English  Warren Pereira   \n",
       "4           104.0  Comedy, Drama          English     Louis Malle   \n",
       "\n",
       "           writer boxOffice                     distributor soundMix  year  \n",
       "0        John Gay      None              Universal Pictures   Stereo  1972  \n",
       "1   Mark Kitchell      None  First Run, California Newsreel     None  1990  \n",
       "2            None    $71.5K                     Kino Lorber     None  2013  \n",
       "3  Warren Pereira      None              Elevation Pictures     None  2022  \n",
       "4      John Guare      None              Paramount Pictures     None  1981  "
      ]
     },
     "execution_count": 15,
     "metadata": {},
     "output_type": "execute_result"
    }
   ],
   "source": [
    "df.head()"
   ]
  },
  {
   "cell_type": "code",
   "execution_count": 16,
   "id": "198675b6-1c8a-44be-8eb1-fc7b6b231653",
   "metadata": {},
   "outputs": [
    {
     "name": "stdout",
     "output_type": "stream",
     "text": [
      "<class 'pandas.core.frame.DataFrame'>\n",
      "RangeIndex: 5000 entries, 0 to 4999\n",
      "Data columns (total 17 columns):\n",
      " #   Column                Non-Null Count  Dtype  \n",
      "---  ------                --------------  -----  \n",
      " 0   id                    5000 non-null   object \n",
      " 1   title                 5000 non-null   object \n",
      " 2   audienceScore         5000 non-null   int32  \n",
      " 3   tomatoMeter           5000 non-null   int32  \n",
      " 4   rating                1266 non-null   object \n",
      " 5   ratingContents        1266 non-null   object \n",
      " 6   releaseDateTheaters   5000 non-null   object \n",
      " 7   releaseDateStreaming  4635 non-null   object \n",
      " 8   runtimeMinutes        4994 non-null   float64\n",
      " 9   genre                 5000 non-null   object \n",
      " 10  originalLanguage      4911 non-null   object \n",
      " 11  director              4996 non-null   object \n",
      " 12  writer                4035 non-null   object \n",
      " 13  boxOffice             2539 non-null   object \n",
      " 14  distributor           4398 non-null   object \n",
      " 15  soundMix              1739 non-null   object \n",
      " 16  year                  5000 non-null   int32  \n",
      "dtypes: float64(1), int32(3), object(13)\n",
      "memory usage: 605.6+ KB\n"
     ]
    }
   ],
   "source": [
    "df.info()"
   ]
  },
  {
   "cell_type": "code",
   "execution_count": 17,
   "id": "6095d5f3-9388-4df0-ac87-35c9817e11b6",
   "metadata": {},
   "outputs": [
    {
     "data": {
      "text/plain": [
       "<Axes: xlabel='tomatoMeter', ylabel='audienceScore'>"
      ]
     },
     "execution_count": 17,
     "metadata": {},
     "output_type": "execute_result"
    },
    {
     "data": {
      "image/png": "[encoded data removed]",
      "text/plain": [
       "<Figure size 640x480 with 1 Axes>"
      ]
     },
     "metadata": {},
     "output_type": "display_data"
    }
   ],
   "source": [
    "sns.scatterplot(df, x='tomatoMeter', y='audienceScore')"
   ]
  },
  {
   "cell_type": "code",
   "execution_count": 18,
   "id": "a745c333-ee06-4856-8f0a-9f80317d3c08",
   "metadata": {},
   "outputs": [
    {
     "data": {
      "text/html": [
       "<div>\n",
       "<style scoped>\n",
       "    .dataframe tbody tr th:only-of-type {\n",
       "        vertical-align: middle;\n",
       "    }\n",
       "\n",
       "    .dataframe tbody tr th {\n",
       "        vertical-align: top;\n",
       "    }\n",
       "\n",
       "    .dataframe thead th {\n",
       "        text-align: right;\n",
       "    }\n",
       "</style>\n",
       "<table border=\"1\" class=\"dataframe\">\n",
       "  <thead>\n",
       "    <tr style=\"text-align: right;\">\n",
       "      <th></th>\n",
       "      <th>year</th>\n",
       "      <th>audienceScore</th>\n",
       "      <th>tomatoMeter</th>\n",
       "    </tr>\n",
       "  </thead>\n",
       "  <tbody>\n",
       "    <tr>\n",
       "      <th>0</th>\n",
       "      <td>1902</td>\n",
       "      <td>90.000000</td>\n",
       "      <td>100.000000</td>\n",
       "    </tr>\n",
       "    <tr>\n",
       "      <th>1</th>\n",
       "      <td>1914</td>\n",
       "      <td>42.000000</td>\n",
       "      <td>90.000000</td>\n",
       "    </tr>\n",
       "    <tr>\n",
       "      <th>2</th>\n",
       "      <td>1915</td>\n",
       "      <td>56.666667</td>\n",
       "      <td>93.666667</td>\n",
       "    </tr>\n",
       "    <tr>\n",
       "      <th>3</th>\n",
       "      <td>1916</td>\n",
       "      <td>78.500000</td>\n",
       "      <td>93.000000</td>\n",
       "    </tr>\n",
       "    <tr>\n",
       "      <th>4</th>\n",
       "      <td>1919</td>\n",
       "      <td>69.000000</td>\n",
       "      <td>95.000000</td>\n",
       "    </tr>\n",
       "  </tbody>\n",
       "</table>\n",
       "</div>"
      ],
      "text/plain": [
       "   year  audienceScore  tomatoMeter\n",
       "0  1902      90.000000   100.000000\n",
       "1  1914      42.000000    90.000000\n",
       "2  1915      56.666667    93.666667\n",
       "3  1916      78.500000    93.000000\n",
       "4  1919      69.000000    95.000000"
      ]
     },
     "execution_count": 18,
     "metadata": {},
     "output_type": "execute_result"
    }
   ],
   "source": [
    "df_avg_year = df.groupby('year')[['audienceScore', 'tomatoMeter']].mean().reset_index()\n",
    "df_avg_year.head()"
   ]
  },
  {
   "cell_type": "code",
   "execution_count": 19,
   "id": "460f3777-b703-4af9-9e4e-f45e51844523",
   "metadata": {},
   "outputs": [
    {
     "data": {
      "text/plain": [
       "<matplotlib.legend.Legend at 0x7fe55ff81910>"
      ]
     },
     "execution_count": 19,
     "metadata": {},
     "output_type": "execute_result"
    },
    {
     "data": {
      "image/png": "[encoded data removed]",
      "text/plain": [
       "<Figure size 640x480 with 1 Axes>"
      ]
     },
     "metadata": {},
     "output_type": "display_data"
    }
   ],
   "source": [
    "fig, ax = plt.subplots()\n",
    "ax.plot(df_avg_year.year, df_avg_year.audienceScore, label='Audience Score')\n",
    "ax.plot(df_avg_year.year, df_avg_year.tomatoMeter, label='Tomatometer')\n",
    "ax.set_xlabel('Year')\n",
    "ax.set_ylabel('Rating')\n",
    "ax.legend()"
   ]
  },
  {
   "cell_type": "code",
   "execution_count": 20,
   "id": "d5c5e7b4-3bac-4a21-af3c-4229ff665a7d",
   "metadata": {},
   "outputs": [],
   "source": [
    "df_avg_lang = df.groupby('originalLanguage')[['audienceScore', 'tomatoMeter']].mean().reset_index()"
   ]
  },
  {
   "cell_type": "code",
   "execution_count": 21,
   "id": "b4c4cb45-6fd8-4369-b0b2-42715bb72444",
   "metadata": {},
   "outputs": [],
   "source": [
    "lang_list = ['Arabic', 'Yiddish', 'English', 'Chinese', 'French', 'Spanish']"
   ]
  },
  {
   "cell_type": "code",
   "execution_count": 22,
   "id": "658d47e3-3232-4cf8-bb25-a84662b10a92",
   "metadata": {},
   "outputs": [],
   "source": [
    "df_avg_lang = df_avg_lang.loc[df_avg_lang.originalLanguage.isin(lang_list)]"
   ]
  },
  {
   "cell_type": "code",
   "execution_count": 23,
   "id": "0bd60d2a-165c-4924-8b76-2e55c3833807",
   "metadata": {},
   "outputs": [
    {
     "data": {
      "text/html": [
       "<div>\n",
       "<style scoped>\n",
       "    .dataframe tbody tr th:only-of-type {\n",
       "        vertical-align: middle;\n",
       "    }\n",
       "\n",
       "    .dataframe tbody tr th {\n",
       "        vertical-align: top;\n",
       "    }\n",
       "\n",
       "    .dataframe thead th {\n",
       "        text-align: right;\n",
       "    }\n",
       "</style>\n",
       "<table border=\"1\" class=\"dataframe\">\n",
       "  <thead>\n",
       "    <tr style=\"text-align: right;\">\n",
       "      <th></th>\n",
       "      <th>originalLanguage</th>\n",
       "      <th>audienceScore</th>\n",
       "      <th>tomatoMeter</th>\n",
       "    </tr>\n",
       "  </thead>\n",
       "  <tbody>\n",
       "    <tr>\n",
       "      <th>2</th>\n",
       "      <td>Arabic</td>\n",
       "      <td>81.021277</td>\n",
       "      <td>93.893617</td>\n",
       "    </tr>\n",
       "    <tr>\n",
       "      <th>9</th>\n",
       "      <td>Chinese</td>\n",
       "      <td>79.391753</td>\n",
       "      <td>93.917526</td>\n",
       "    </tr>\n",
       "    <tr>\n",
       "      <th>15</th>\n",
       "      <td>English</td>\n",
       "      <td>78.583358</td>\n",
       "      <td>93.736350</td>\n",
       "    </tr>\n",
       "    <tr>\n",
       "      <th>21</th>\n",
       "      <td>French</td>\n",
       "      <td>92.000000</td>\n",
       "      <td>94.000000</td>\n",
       "    </tr>\n",
       "    <tr>\n",
       "      <th>61</th>\n",
       "      <td>Spanish</td>\n",
       "      <td>75.722772</td>\n",
       "      <td>93.415842</td>\n",
       "    </tr>\n",
       "    <tr>\n",
       "      <th>76</th>\n",
       "      <td>Yiddish</td>\n",
       "      <td>64.500000</td>\n",
       "      <td>97.500000</td>\n",
       "    </tr>\n",
       "  </tbody>\n",
       "</table>\n",
       "</div>"
      ],
      "text/plain": [
       "   originalLanguage  audienceScore  tomatoMeter\n",
       "2            Arabic      81.021277    93.893617\n",
       "9           Chinese      79.391753    93.917526\n",
       "15          English      78.583358    93.736350\n",
       "21           French      92.000000    94.000000\n",
       "61          Spanish      75.722772    93.415842\n",
       "76          Yiddish      64.500000    97.500000"
      ]
     },
     "execution_count": 23,
     "metadata": {},
     "output_type": "execute_result"
    }
   ],
   "source": [
    "df_avg_lang"
   ]
  },
  {
   "cell_type": "code",
   "execution_count": 29,
   "id": "ecd7efea-4f76-4de8-9328-cb6e8e9b6e9b",
   "metadata": {},
   "outputs": [],
   "source": [
    "df_avg_lang = df_avg_lang.melt(id_vars=['originalLanguage'], value_vars=['audienceScore', 'tomatoMeter'], var_name='Rated By', value_name='Rating')"
   ]
  },
  {
   "cell_type": "code",
   "execution_count": 30,
   "id": "e27c0544-5d49-419a-8c68-100693c68ec7",
   "metadata": {},
   "outputs": [
    {
     "data": {
      "text/html": [
       "<div>\n",
       "<style scoped>\n",
       "    .dataframe tbody tr th:only-of-type {\n",
       "        vertical-align: middle;\n",
       "    }\n",
       "\n",
       "    .dataframe tbody tr th {\n",
       "        vertical-align: top;\n",
       "    }\n",
       "\n",
       "    .dataframe thead th {\n",
       "        text-align: right;\n",
       "    }\n",
       "</style>\n",
       "<table border=\"1\" class=\"dataframe\">\n",
       "  <thead>\n",
       "    <tr style=\"text-align: right;\">\n",
       "      <th></th>\n",
       "      <th>originalLanguage</th>\n",
       "      <th>Rated By</th>\n",
       "      <th>Rating</th>\n",
       "    </tr>\n",
       "  </thead>\n",
       "  <tbody>\n",
       "    <tr>\n",
       "      <th>0</th>\n",
       "      <td>Arabic</td>\n",
       "      <td>audienceScore</td>\n",
       "      <td>81.021277</td>\n",
       "    </tr>\n",
       "    <tr>\n",
       "      <th>1</th>\n",
       "      <td>Chinese</td>\n",
       "      <td>audienceScore</td>\n",
       "      <td>79.391753</td>\n",
       "    </tr>\n",
       "    <tr>\n",
       "      <th>2</th>\n",
       "      <td>English</td>\n",
       "      <td>audienceScore</td>\n",
       "      <td>78.583358</td>\n",
       "    </tr>\n",
       "    <tr>\n",
       "      <th>3</th>\n",
       "      <td>French</td>\n",
       "      <td>audienceScore</td>\n",
       "      <td>92.000000</td>\n",
       "    </tr>\n",
       "    <tr>\n",
       "      <th>4</th>\n",
       "      <td>Spanish</td>\n",
       "      <td>audienceScore</td>\n",
       "      <td>75.722772</td>\n",
       "    </tr>\n",
       "    <tr>\n",
       "      <th>5</th>\n",
       "      <td>Yiddish</td>\n",
       "      <td>audienceScore</td>\n",
       "      <td>64.500000</td>\n",
       "    </tr>\n",
       "    <tr>\n",
       "      <th>6</th>\n",
       "      <td>Arabic</td>\n",
       "      <td>tomatoMeter</td>\n",
       "      <td>93.893617</td>\n",
       "    </tr>\n",
       "    <tr>\n",
       "      <th>7</th>\n",
       "      <td>Chinese</td>\n",
       "      <td>tomatoMeter</td>\n",
       "      <td>93.917526</td>\n",
       "    </tr>\n",
       "    <tr>\n",
       "      <th>8</th>\n",
       "      <td>English</td>\n",
       "      <td>tomatoMeter</td>\n",
       "      <td>93.736350</td>\n",
       "    </tr>\n",
       "    <tr>\n",
       "      <th>9</th>\n",
       "      <td>French</td>\n",
       "      <td>tomatoMeter</td>\n",
       "      <td>94.000000</td>\n",
       "    </tr>\n",
       "    <tr>\n",
       "      <th>10</th>\n",
       "      <td>Spanish</td>\n",
       "      <td>tomatoMeter</td>\n",
       "      <td>93.415842</td>\n",
       "    </tr>\n",
       "    <tr>\n",
       "      <th>11</th>\n",
       "      <td>Yiddish</td>\n",
       "      <td>tomatoMeter</td>\n",
       "      <td>97.500000</td>\n",
       "    </tr>\n",
       "  </tbody>\n",
       "</table>\n",
       "</div>"
      ],
      "text/plain": [
       "   originalLanguage       Rated By     Rating\n",
       "0            Arabic  audienceScore  81.021277\n",
       "1           Chinese  audienceScore  79.391753\n",
       "2           English  audienceScore  78.583358\n",
       "3            French  audienceScore  92.000000\n",
       "4           Spanish  audienceScore  75.722772\n",
       "5           Yiddish  audienceScore  64.500000\n",
       "6            Arabic    tomatoMeter  93.893617\n",
       "7           Chinese    tomatoMeter  93.917526\n",
       "8           English    tomatoMeter  93.736350\n",
       "9            French    tomatoMeter  94.000000\n",
       "10          Spanish    tomatoMeter  93.415842\n",
       "11          Yiddish    tomatoMeter  97.500000"
      ]
     },
     "execution_count": 30,
     "metadata": {},
     "output_type": "execute_result"
    }
   ],
   "source": [
    "df_avg_lang"
   ]
  },
  {
   "cell_type": "code",
   "execution_count": 33,
   "id": "8e84639c-3b15-4132-8d0a-9ca62c5edc05",
   "metadata": {},
   "outputs": [
    {
     "data": {
      "text/plain": [
       "<Axes: xlabel='originalLanguage', ylabel='Rating'>"
      ]
     },
     "execution_count": 33,
     "metadata": {},
     "output_type": "execute_result"
    },
    {
     "data": {
      "image/png": "[encoded data removed]",
      "text/plain": [
       "<Figure size 640x480 with 1 Axes>"
      ]
     },
     "metadata": {},
     "output_type": "display_data"
    }
   ],
   "source": [
    "sns.barplot(df_avg_lang, x='originalLanguage', y='Rating', hue='Rated By')"
   ]
  }
 ],
 "metadata": {
  "kernelspec": {
   "display_name": "Python 3 (ipykernel)",
   "language": "python",
   "name": "python3"
  },
  "language_info": {
   "codemirror_mode": {
    "name": "ipython",
    "version": 3
   },
   "file_extension": ".py",
   "mimetype": "text/x-python",
   "name": "python",
   "nbconvert_exporter": "python",
   "pygments_lexer": "ipython3",
   "version": "3.11.6"
  }
 },
 "nbformat": 4,
 "nbformat_minor": 5
}
